{
 "cells": [
  {
   "cell_type": "markdown",
   "metadata": {},
   "source": [
    "# Свёрточная сеть для классификации изображений:"
   ]
  },
  {
   "cell_type": "code",
   "execution_count": 10,
   "metadata": {},
   "outputs": [
    {
     "name": "stdout",
     "output_type": "stream",
     "text": [
      "Requirement already satisfied: keras in ./venv/lib/python3.8/site-packages (2.4.3)\n",
      "Requirement already satisfied: pyyaml in ./venv/lib/python3.8/site-packages (from keras) (5.3.1)\n",
      "Requirement already satisfied: numpy>=1.9.1 in ./venv/lib/python3.8/site-packages (from keras) (1.18.5)\n",
      "Requirement already satisfied: h5py in ./venv/lib/python3.8/site-packages (from keras) (2.10.0)\n",
      "Requirement already satisfied: scipy>=0.14 in ./venv/lib/python3.8/site-packages (from keras) (1.5.3)\n",
      "Requirement already satisfied: six in ./venv/lib/python3.8/site-packages (from h5py->keras) (1.15.0)\n",
      "Note: you may need to restart the kernel to use updated packages.\n"
     ]
    }
   ],
   "source": [
    "%pip install keras"
   ]
  },
  {
   "cell_type": "markdown",
   "metadata": {},
   "source": [
    "# Импорт библиотек:"
   ]
  },
  {
   "cell_type": "code",
   "execution_count": 43,
   "metadata": {},
   "outputs": [],
   "source": [
    "import numpy as np\n",
    "from keras.datasets import cifar10\n",
    "from keras.models import Sequential\n",
    "from keras import layers\n",
    "from keras.utils import np_utils\n",
    "\n",
    "# для повторяемости результатов\n",
    "np.random.seed(42)"
   ]
  },
  {
   "cell_type": "markdown",
   "metadata": {},
   "source": [
    "# Загрузка данных для обучения и тестов:\n"
   ]
  },
  {
   "cell_type": "code",
   "execution_count": 44,
   "metadata": {},
   "outputs": [],
   "source": [
    "(x_train, y_train), (x_test, y_test) = cifar10.load_data()"
   ]
  },
  {
   "cell_type": "code",
   "execution_count": 45,
   "metadata": {},
   "outputs": [
    {
     "data": {
      "text/plain": [
       "((50000, 32, 32, 3), (50000, 1))"
      ]
     },
     "execution_count": 45,
     "metadata": {},
     "output_type": "execute_result"
    }
   ],
   "source": [
    "x_train.shape, y_train.shape\n"
   ]
  },
  {
   "cell_type": "code",
   "execution_count": 46,
   "metadata": {},
   "outputs": [],
   "source": [
    "#подготовка данных\n",
    "x_test = x_test.astype('float32')\n",
    "x_train = x_train.astype('float32')\n",
    "x_test /= 255.\n",
    "x_train /= 255.\n",
    "\n",
    "# преобразуем метки классов в категирии\n",
    "y_train = np_utils.to_categorical(y_train, 10)\n",
    "y_test = np_utils.to_categorical(y_test, 10)\n"
   ]
  },
  {
   "cell_type": "code",
   "execution_count": 18,
   "metadata": {},
   "outputs": [
    {
     "data": {
      "text/plain": [
       "((50000, 32, 32, 3), (50000, 10))"
      ]
     },
     "execution_count": 18,
     "metadata": {},
     "output_type": "execute_result"
    }
   ],
   "source": [
    "x_train.shape, y_train.shape\n"
   ]
  },
  {
   "cell_type": "markdown",
   "metadata": {},
   "source": [
    "# Создание слоёв сети:"
   ]
  },
  {
   "cell_type": "code",
   "execution_count": 19,
   "metadata": {},
   "outputs": [],
   "source": [
    "# Создание модели\n",
    "model = Sequential()\n",
    "\n",
    "# input\n",
    "model.add(layers.Input(shape=(32, 32, 3)))\n",
    "\n",
    "# первый слой свёртки\n",
    "model.add(layers.Conv2D(filters=32, kernel_size=(3, 3), activation=\"relu\", padding=\"same\"))\n",
    "\n",
    "# второй слой свёртки\n",
    "model.add(layers.Conv2D(filters=32, kernel_size=(3, 3), activation=\"relu\"))\n",
    "\n",
    "# слой подвыборки\n",
    "model.add(layers.MaxPooling2D(pool_size=(2, 2)))\n",
    "\n",
    "# слой регуляризайии\n",
    "model.add(layers.Dropout(0.25))\n",
    "\n",
    "\n",
    "# первый слой свёртки\n",
    "model.add(layers.Conv2D(filters=64, kernel_size=(3, 3), activation=\"relu\", padding=\"same\"))\n",
    "\n",
    "# второй слой свёртки\n",
    "model.add(layers.Conv2D(filters=64, kernel_size=(3, 3), activation=\"relu\"))\n",
    "\n",
    "# слой подвыборки\n",
    "model.add(layers.MaxPooling2D(pool_size=(2, 2)))\n",
    "\n",
    "# слой регуляризайии\n",
    "model.add(layers.Dropout(0.25))\n",
    "\n",
    "\n",
    "\n",
    "# преобразование из 2Д в 1Д вид\n",
    "model.add(layers.Flatten())\n",
    "\n",
    "# полносвязный слой\n",
    "model.add(layers.Dense(512, activation='relu'))\n",
    "\n",
    "# слой регуляции\n",
    "model.add(layers.Dropout(0.5))\n",
    "\n",
    "# выходной слой\n",
    "model.add(layers.Dense(10, activation='softmax'))\n",
    "model.compile(loss='categorical_crossentropy', optimizer='SGD', metrics=['accuracy'])"
   ]
  },
  {
   "cell_type": "code",
   "execution_count": 20,
   "metadata": {},
   "outputs": [
    {
     "name": "stdout",
     "output_type": "stream",
     "text": [
      "Model: \"sequential\"\n",
      "_________________________________________________________________\n",
      "Layer (type)                 Output Shape              Param #   \n",
      "=================================================================\n",
      "conv2d (Conv2D)              (None, 32, 32, 32)        896       \n",
      "_________________________________________________________________\n",
      "conv2d_1 (Conv2D)            (None, 30, 30, 32)        9248      \n",
      "_________________________________________________________________\n",
      "max_pooling2d (MaxPooling2D) (None, 15, 15, 32)        0         \n",
      "_________________________________________________________________\n",
      "dropout (Dropout)            (None, 15, 15, 32)        0         \n",
      "_________________________________________________________________\n",
      "conv2d_2 (Conv2D)            (None, 15, 15, 64)        18496     \n",
      "_________________________________________________________________\n",
      "conv2d_3 (Conv2D)            (None, 13, 13, 64)        36928     \n",
      "_________________________________________________________________\n",
      "max_pooling2d_1 (MaxPooling2 (None, 6, 6, 64)          0         \n",
      "_________________________________________________________________\n",
      "dropout_1 (Dropout)          (None, 6, 6, 64)          0         \n",
      "_________________________________________________________________\n",
      "flatten (Flatten)            (None, 2304)              0         \n",
      "_________________________________________________________________\n",
      "dense (Dense)                (None, 512)               1180160   \n",
      "_________________________________________________________________\n",
      "dropout_2 (Dropout)          (None, 512)               0         \n",
      "_________________________________________________________________\n",
      "dense_1 (Dense)              (None, 10)                5130      \n",
      "=================================================================\n",
      "Total params: 1,250,858\n",
      "Trainable params: 1,250,858\n",
      "Non-trainable params: 0\n",
      "_________________________________________________________________\n",
      "None\n",
      "(50000, 32, 32, 3)\n"
     ]
    }
   ],
   "source": [
    "# help(model.fit)\n",
    "print(model.summary())\n",
    "print(x_train.shape)\n"
   ]
  },
  {
   "cell_type": "markdown",
   "metadata": {},
   "source": [
    "# Обучение сети:"
   ]
  },
  {
   "cell_type": "code",
   "execution_count": 13,
   "metadata": {},
   "outputs": [
    {
     "name": "stdout",
     "output_type": "stream",
     "text": [
      "Epoch 1/25\n",
      "1407/1407 [==============================] - 68s 49ms/step - loss: 2.0506 - accuracy: 0.2445 - val_loss: 1.9176 - val_accuracy: 0.2980\n",
      "Epoch 2/25\n",
      "1407/1407 [==============================] - 69s 49ms/step - loss: 1.7323 - accuracy: 0.3647 - val_loss: 1.7222 - val_accuracy: 0.3720\n",
      "Epoch 3/25\n",
      "1407/1407 [==============================] - 70s 50ms/step - loss: 1.5913 - accuracy: 0.4163 - val_loss: 1.4803 - val_accuracy: 0.4508\n",
      "Epoch 4/25\n",
      "1407/1407 [==============================] - 68s 48ms/step - loss: 1.4846 - accuracy: 0.4613 - val_loss: 1.4653 - val_accuracy: 0.4740\n",
      "Epoch 5/25\n",
      "1407/1407 [==============================] - 67s 48ms/step - loss: 1.4034 - accuracy: 0.4938 - val_loss: 1.3917 - val_accuracy: 0.4886\n",
      "Epoch 6/25\n",
      "1407/1407 [==============================] - 69s 49ms/step - loss: 1.3410 - accuracy: 0.5178 - val_loss: 1.4365 - val_accuracy: 0.4740\n",
      "Epoch 7/25\n",
      "1407/1407 [==============================] - 66s 47ms/step - loss: 1.2850 - accuracy: 0.5408 - val_loss: 1.2275 - val_accuracy: 0.5580\n",
      "Epoch 8/25\n",
      "1407/1407 [==============================] - 63s 45ms/step - loss: 1.2315 - accuracy: 0.5617 - val_loss: 1.1317 - val_accuracy: 0.6068\n",
      "Epoch 9/25\n",
      "1407/1407 [==============================] - 67s 48ms/step - loss: 1.1868 - accuracy: 0.5764 - val_loss: 1.0646 - val_accuracy: 0.6298\n",
      "Epoch 10/25\n",
      "1407/1407 [==============================] - 67s 47ms/step - loss: 1.1454 - accuracy: 0.5920 - val_loss: 1.0846 - val_accuracy: 0.6232\n",
      "Epoch 11/25\n",
      "1407/1407 [==============================] - 70s 50ms/step - loss: 1.1039 - accuracy: 0.6083 - val_loss: 1.1094 - val_accuracy: 0.6056\n",
      "Epoch 12/25\n",
      "1407/1407 [==============================] - 69s 49ms/step - loss: 1.0633 - accuracy: 0.6233 - val_loss: 1.0290 - val_accuracy: 0.6460\n",
      "Epoch 13/25\n",
      "1407/1407 [==============================] - 64s 46ms/step - loss: 1.0331 - accuracy: 0.6324 - val_loss: 0.9405 - val_accuracy: 0.6738\n",
      "Epoch 14/25\n",
      "1407/1407 [==============================] - 67s 48ms/step - loss: 0.9977 - accuracy: 0.6458 - val_loss: 0.9355 - val_accuracy: 0.6736\n",
      "Epoch 15/25\n",
      "1407/1407 [==============================] - 66s 47ms/step - loss: 0.9701 - accuracy: 0.6589 - val_loss: 0.8731 - val_accuracy: 0.7034\n",
      "Epoch 16/25\n",
      "1407/1407 [==============================] - 66s 47ms/step - loss: 0.9433 - accuracy: 0.6670 - val_loss: 0.9363 - val_accuracy: 0.6766\n",
      "Epoch 17/25\n",
      "1407/1407 [==============================] - 64s 45ms/step - loss: 0.9198 - accuracy: 0.6744 - val_loss: 0.8851 - val_accuracy: 0.6884\n",
      "Epoch 18/25\n",
      "1407/1407 [==============================] - 67s 48ms/step - loss: 0.8962 - accuracy: 0.6820 - val_loss: 0.8124 - val_accuracy: 0.7128\n",
      "Epoch 19/25\n",
      "1407/1407 [==============================] - 65s 46ms/step - loss: 0.8703 - accuracy: 0.6941 - val_loss: 0.8270 - val_accuracy: 0.7118\n",
      "Epoch 20/25\n",
      "1407/1407 [==============================] - 64s 46ms/step - loss: 0.8469 - accuracy: 0.6986 - val_loss: 0.7958 - val_accuracy: 0.7240\n",
      "Epoch 21/25\n",
      "1407/1407 [==============================] - 62s 44ms/step - loss: 0.8213 - accuracy: 0.7088 - val_loss: 0.7859 - val_accuracy: 0.7292\n",
      "Epoch 22/25\n",
      "1407/1407 [==============================] - 65s 46ms/step - loss: 0.8081 - accuracy: 0.7155 - val_loss: 0.8030 - val_accuracy: 0.7162\n",
      "Epoch 23/25\n",
      "1407/1407 [==============================] - 75s 54ms/step - loss: 0.7872 - accuracy: 0.7228 - val_loss: 0.7155 - val_accuracy: 0.7564\n",
      "Epoch 24/25\n",
      "1407/1407 [==============================] - 61s 44ms/step - loss: 0.7680 - accuracy: 0.7303 - val_loss: 0.7534 - val_accuracy: 0.7430\n",
      "Epoch 25/25\n",
      "1407/1407 [==============================] - 63s 45ms/step - loss: 0.7482 - accuracy: 0.7357 - val_loss: 0.7335 - val_accuracy: 0.7456\n"
     ]
    },
    {
     "data": {
      "text/plain": [
       "<tensorflow.python.keras.callbacks.History at 0x7f72c19f3340>"
      ]
     },
     "execution_count": 13,
     "metadata": {},
     "output_type": "execute_result"
    }
   ],
   "source": [
    "model.fit(x_train, y_train, batch_size=32, epochs=25, validation_split=0.1, shuffle=True, verbose=1)"
   ]
  },
  {
   "cell_type": "markdown",
   "metadata": {},
   "source": [
    "# Сохраняем модель:"
   ]
  },
  {
   "cell_type": "code",
   "execution_count": 25,
   "metadata": {},
   "outputs": [],
   "source": [
    "model.save('my_model.h5')"
   ]
  },
  {
   "cell_type": "markdown",
   "metadata": {},
   "source": [
    "# Загружаем модель:"
   ]
  },
  {
   "cell_type": "code",
   "execution_count": 47,
   "metadata": {},
   "outputs": [],
   "source": [
    "from keras.models import load_model\n",
    "model = load_model('my_model.h5')\n",
    "classes = ['airplane', 'automobile', 'bird', 'cat', 'deer', 'dog', 'frog', 'horse', 'ship', 'truck']"
   ]
  },
  {
   "cell_type": "markdown",
   "metadata": {},
   "source": [
    "# Проверка качества обучения:"
   ]
  },
  {
   "cell_type": "code",
   "execution_count": 48,
   "metadata": {},
   "outputs": [
    {
     "name": "stdout",
     "output_type": "stream",
     "text": [
      "Точносто работы на тестовых данных:0.74%\n"
     ]
    }
   ],
   "source": [
    "# проверка качества обучения на тестовых данных\n",
    "scores = model.evaluate(x_test, y_test, verbose=0)\n",
    "\n",
    "# печать точности\n",
    "print(\"Точносто работы на тестовых данных:%2.2f%%\" % (scores[1], ))"
   ]
  },
  {
   "cell_type": "markdown",
   "metadata": {},
   "source": [
    "# Тест работы:"
   ]
  },
  {
   "cell_type": "code",
   "execution_count": 50,
   "metadata": {},
   "outputs": [
    {
     "name": "stdout",
     "output_type": "stream",
     "text": [
      "class_num:7 name:horse\n"
     ]
    },
    {
     "data": {
      "image/png": "[encoded data removed]",
      "text/plain": [
       "<Figure size 432x288 with 1 Axes>"
      ]
     },
     "metadata": {
      "needs_background": "light"
     },
     "output_type": "display_data"
    }
   ],
   "source": [
    "import matplotlib.pyplot as plt\n",
    "test_img = x_test[20]\n",
    "imgplot = plt.imshow(test_img)\n",
    "\n",
    "# предсказание\n",
    "prediction = model.predict(test_img.reshape((1, 32, 32, 3)))\n",
    "#выводим номер класса\n",
    "class_num = np.argmax(prediction[0])\n",
    "class_name = classes[class_num]\n",
    "#выводим правильный номер класса\n",
    "print('class_num:%d name:%s' % (class_num, class_name))"
   ]
  },
  {
   "cell_type": "markdown",
   "metadata": {},
   "source": [
    "# Opencv тест:"
   ]
  },
  {
   "cell_type": "code",
   "execution_count": 51,
   "metadata": {},
   "outputs": [],
   "source": [
    "import numpy as np\n",
    "import cv2\n",
    "import random\n",
    "random.seed(1)\n",
    "cap = cv2.VideoCapture(0)\n",
    "# cap.set(3, 32)\n",
    "# cap.set(4, 32)\n",
    "font = cv2.FONT_HERSHEY_SIMPLEX\n",
    "counter = 0\n",
    "while(True):\n",
    "    # Capture frame-by-frame\n",
    "    ret, frame = cap.read()\n",
    "\n",
    "    # make prediction of image class\n",
    "    prediction = model.predict(cv2.resize(frame, (32,32)).reshape((1, 32, 32, 3)))\n",
    "\n",
    "    #выводим номер класса\n",
    "    class_num = np.argmax(prediction[0])\n",
    "    class_name = classes[class_num]\n",
    "\n",
    "    # draw calass name\n",
    "    cv2.putText(frame, '%s' % (class_name, ), (0,30), font, 1, (0, 255, 0), 2, cv2.LINE_AA)\n",
    "\n",
    "    # Display the resulting frame\n",
    "    cv2.imshow('frame',frame)\n",
    "    if cv2.waitKey(1) & 0xFF == ord('q'):\n",
    "        break\n",
    "\n",
    "# When everything done, release the capture\n",
    "cap.release()\n",
    "cv2.destroyAllWindows()"
   ]
  }
 ],
 "metadata": {
  "kernelspec": {
   "display_name": "Python 3",
   "language": "python",
   "name": "python3"
  },
  "language_info": {
   "codemirror_mode": {
    "name": "ipython",
    "version": 3
   },
   "file_extension": ".py",
   "mimetype": "text/x-python",
   "name": "python",
   "nbconvert_exporter": "python",
   "pygments_lexer": "ipython3",
   "version": "3.8.5"
  }
 },
 "nbformat": 4,
 "nbformat_minor": 4
}
